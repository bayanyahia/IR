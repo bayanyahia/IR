{
  "nbformat": 4,
  "nbformat_minor": 0,
  "metadata": {
    "colab": {
      "provenance": []
    },
    "kernelspec": {
      "name": "python3",
      "display_name": "Python 3"
    },
    "language_info": {
      "name": "python"
    }
  },
  "cells": [
    {
      "cell_type": "code",
      "execution_count": null,
      "metadata": {
        "id": "MTM3ydII-Fth"
      },
      "outputs": [],
      "source": [
        "import os\n",
        "import pandas as pd\n",
        "from sklearn.feature_extraction.text import TfidfVectorizer\n",
        "from sklearn.cluster import KMeans\n",
        "\n",
        "def load_documents_from_directory(directory_path):\n",
        "    documents = []\n",
        "    for file_name in os.listdir(directory_path):\n",
        "        if file_name.endswith('.txt'):\n",
        "            with open(os.path.join(directory_path, file_name), 'r', encoding='utf-8') as file:\n",
        "                documents.append(file.read())\n",
        "    return documents\n",
        "\n",
        "filter_bubble_docs = load_documents_from_directory('/content/Filter_ bubble')\n",
        "ai_explainability_docs = load_documents_from_directory('/content/Ai_explainability')\n",
        "social_bias_docs = load_documents_from_directory('/content/Social_Bias')\n",
        "\n",
        "all_documents = filter_bubble_docs + ai_explainability_docs + social_bias_docs\n",
        "\n",
        "tfidf_vectorizer = TfidfVectorizer()\n",
        "tfidf_matrix = tfidf_vectorizer.fit_transform(all_documents)\n",
        "\n",
        "num_clusters = 4\n",
        "kmeans = KMeans(n_clusters=num_clusters)\n",
        "kmeans.fit(tfidf_matrix)\n",
        "\n",
        "cluster_labels = kmeans.labels_\n",
        "\n",
        "results = pd.DataFrame({'Document': all_documents, 'Cluster': cluster_labels})\n",
        "\n",
        "print(results)\n"
      ]
    }
  ]
}